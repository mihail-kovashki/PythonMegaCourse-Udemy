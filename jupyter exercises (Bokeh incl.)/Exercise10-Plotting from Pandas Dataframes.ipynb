{
 "cells": [
  {
   "cell_type": "code",
   "execution_count": 23,
   "metadata": {
    "collapsed": false
   },
   "outputs": [
    {
     "name": "stderr",
     "output_type": "stream",
     "text": [
      "INFO:bokeh.core.state:Session output file 'exc10.html' already exists, will be overwritten.\n",
      "WARNING:D:\\Anaconda\\lib\\site-packages\\bokeh\\core\\validation\\check.py:W-1001 (NO_DATA_RENDERERS): Plot has no data renderers: Figure, ViewModel:Plot, ref _id: 2dcb732e-169e-4393-ae11-a0067e70692d\n"
     ]
    }
   ],
   "source": [
    "#My Solution\n",
    "\n",
    "from bokeh.plotting import figure, output_file, show\n",
    "import pandas\n",
    "\n",
    "df = pandas.read_excel(\"verlegenhuken.xlsx\")\n",
    "\n",
    "p = figure()\n",
    "p.title.text=\"Temperature and Air Pressure\"\n",
    "p.title.text_color=\"gray\"\n",
    "#p.title.text_font=\"Times\"\n",
    "p.title.text_font_style=\"bold\"\n",
    "p.title.text_font_size=\"20pt\"\n",
    "\n",
    "p.xaxis.axis_label=\"Temperature(C)\"\n",
    "p.yaxis.axis_label=\"Pressure(hPa)\"\n",
    "\n",
    "p.xaxis.minor_tick_line_color=None\n",
    "p.yaxis.minor_tick_line_color=None\n",
    "\n",
    "p.xaxis.axis_label_text_font_style=\"normal\"\n",
    "p.xaxis.axis_label_text_font_size=\"24px\"\n",
    "\n",
    "p.yaxis.axis_label_text_font_style=\"normal\"\n",
    "p.yaxis.axis_label_text_font_size=\"24px\"\n",
    "\n",
    "p.circle(df[\"Temperature\"]/10, df[\"Pressure\"]/10, color=\"blue\", alpha=0.5, size=0.5)\n",
    "\n",
    "output_file(\"exc10.html\")\n",
    "\n",
    "show(p)"
   ]
  },
  {
   "cell_type": "code",
   "execution_count": 22,
   "metadata": {
    "collapsed": false
   },
   "outputs": [
    {
     "name": "stderr",
     "output_type": "stream",
     "text": [
      "INFO:bokeh.core.state:Session output file 'Weather.html' already exists, will be overwritten.\n",
      "WARNING:D:\\Anaconda\\lib\\site-packages\\bokeh\\core\\validation\\check.py:W-1001 (NO_DATA_RENDERERS): Plot has no data renderers: Figure, ViewModel:Plot, ref _id: 2dcb732e-169e-4393-ae11-a0067e70692d\n"
     ]
    }
   ],
   "source": [
    "#Actual Solution\n",
    "\n",
    "import pandas\n",
    "\n",
    "from bokeh.plotting import figure, output_file, show\n",
    "\n",
    "df=pandas.read_excel(\"http://pythonhow.com/verlegenhuken.xlsx\",sheetname=0)\n",
    "df[\"Temperature\"]=df[\"Temperature\"]/10\n",
    "df[\"Pressure\"]=df[\"Pressure\"]/10\n",
    "\n",
    "p=figure(plot_width=500,plot_height=400,tools='pan,resize',logo=None)\n",
    "\n",
    "p.title.text=\"Temperature and Air Pressure\"\n",
    "p.title.text_color=\"Gray\"\n",
    "p.title.text_font=\"arial\"\n",
    "p.title.text_font_style=\"bold\"\n",
    "p.xaxis.minor_tick_line_color=None\n",
    "p.yaxis.minor_tick_line_color=None\n",
    "p.xaxis.axis_label=\"Temperature (°C)\"\n",
    "p.yaxis.axis_label=\"Pressure (hPa)\"                  \n",
    "\n",
    "p.circle(df[\"Temperature\"],df[\"Pressure\"],size=0.5)\n",
    "output_file(\"Weather.html\")\n",
    "show(p)"
   ]
  }
 ],
 "metadata": {
  "anaconda-cloud": {},
  "kernelspec": {
   "display_name": "Python [conda root]",
   "language": "python",
   "name": "conda-root-py"
  },
  "language_info": {
   "codemirror_mode": {
    "name": "ipython",
    "version": 3
   },
   "file_extension": ".py",
   "mimetype": "text/x-python",
   "name": "python",
   "nbconvert_exporter": "python",
   "pygments_lexer": "ipython3",
   "version": "3.5.2"
  }
 },
 "nbformat": 4,
 "nbformat_minor": 1
}
