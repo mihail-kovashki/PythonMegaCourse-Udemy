{
 "cells": [
  {
   "cell_type": "code",
   "execution_count": 7,
   "metadata": {
    "collapsed": false
   },
   "outputs": [
    {
     "name": "stderr",
     "output_type": "stream",
     "text": [
      "INFO:bokeh.core.state:Session output file 'Scatter_charts.html' already exists, will be overwritten.\n"
     ]
    }
   ],
   "source": [
    "from bokeh.charts import Scatter, output_file, show\n",
    "import pandas\n",
    "\n",
    "df = pandas.DataFrame(columns=[\"X\", \"Y\"])\n",
    "df[\"X\"] = [1,2,3,4,5]\n",
    "df[\"Y\"] = [4,5,6,4,6]\n",
    "\n",
    "p = Scatter(df, x=\"X\", y=\"Y\", title=\"Temperatures Observations\", xlabel=\"Day of observation\", ylabel=\"Temperature\")\n",
    "\n",
    "output_file(\"Scatter_charts.html\")\n",
    "\n",
    "show(p)"
   ]
  },
  {
   "cell_type": "code",
   "execution_count": 1,
   "metadata": {
    "collapsed": false
   },
   "outputs": [],
   "source": [
    "from bokeh.plotting import figure, output_file, show\n",
    "\n",
    "p=figure(plot_width=500, plot_height=400)\n",
    "p.title.text=\"Temperatures Observations\"\n",
    "p.title.text_color=\"orange\"\n",
    "p.title.text_font=\"Times\"\n",
    "p.title.text_font_style=\"italic\"\n",
    "p.title.text_font_size=\"16pt\"\n",
    "\n",
    "p.xaxis.axis_label=\"Day of observation\"\n",
    "p.yaxis.axis_label=\"Temperature\"\n",
    "\n",
    "p.xaxis.minor_tick_line_color=None\n",
    "\n",
    "p.circle([1,2,3,4,5],[4,5,6,4,6], size=[i*2 for i in [4,5,6,7,8]], color=\"red\", alpha=0.5)\n",
    "\n",
    "output_file(\"Scatter_plotting.html\")\n",
    "\n",
    "show(p)"
   ]
  }
 ],
 "metadata": {
  "anaconda-cloud": {},
  "kernelspec": {
   "display_name": "Python [conda root]",
   "language": "python",
   "name": "conda-root-py"
  },
  "language_info": {
   "codemirror_mode": {
    "name": "ipython",
    "version": 3
   },
   "file_extension": ".py",
   "mimetype": "text/x-python",
   "name": "python",
   "nbconvert_exporter": "python",
   "pygments_lexer": "ipython3",
   "version": "3.5.2"
  }
 },
 "nbformat": 4,
 "nbformat_minor": 1
}
